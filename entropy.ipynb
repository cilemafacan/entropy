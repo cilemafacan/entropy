{
 "cells": [
  {
   "cell_type": "code",
   "execution_count": 1,
   "metadata": {},
   "outputs": [],
   "source": [
    "import numpy as np\n",
    "from PIL import Image"
   ]
  },
  {
   "cell_type": "code",
   "execution_count": null,
   "metadata": {},
   "outputs": [],
   "source": [
    "image1 = Image.open(\"images/image1.png\").convert(\"L\")\n",
    "image2 = Image.open(\"images/image2.png\").convert(\"L\")\n",
    "\n",
    "display(image1)\n",
    "display(image2)"
   ]
  },
  {
   "cell_type": "code",
   "execution_count": 3,
   "metadata": {},
   "outputs": [],
   "source": [
    "def calculate_histogram_and_probabilities(image):\n",
    "    histogram = np.zeros(256)\n",
    "    for pixel in image.getdata():\n",
    "        histogram[pixel] += 1\n",
    "\n",
    "    pmf = np.zeros(256)\n",
    "    for i in range(256):\n",
    "        pmf[i] = histogram[i] / (image.size[0] * image.size[1])\n",
    "\n",
    "    print(\"Histogram: \", histogram[0])\n",
    "    print(\"PMF: \", pmf[0])\n",
    "    return histogram, pmf"
   ]
  },
  {
   "cell_type": "code",
   "execution_count": 4,
   "metadata": {},
   "outputs": [],
   "source": [
    "def plot_histogram(histogram):\n",
    "    import matplotlib.pyplot as plt\n",
    "    plt.plot(histogram)\n",
    "    plt.show()"
   ]
  },
  {
   "cell_type": "code",
   "execution_count": null,
   "metadata": {},
   "outputs": [],
   "source": [
    "image1_histogram, image1_prob = calculate_histogram_and_probabilities(image1)\n",
    "image2_histogram, image2_prob = calculate_histogram_and_probabilities(image2)\n",
    "\n",
    "plot_histogram(image1_histogram)\n",
    "plot_histogram(image2_histogram)\n",
    "\n",
    "print(len(image1_prob))\n",
    "print(len(image2_prob))"
   ]
  },
  {
   "cell_type": "code",
   "execution_count": 6,
   "metadata": {},
   "outputs": [],
   "source": [
    "def calculate_entropy(probabilities):\n",
    "    total = 0\n",
    "    for i in range(256):\n",
    "        if probabilities[i] != 0:\n",
    "            total += probabilities[i] * np.log2(probabilities[i])\n",
    "\n",
    "    return -total"
   ]
  },
  {
   "cell_type": "code",
   "execution_count": null,
   "metadata": {},
   "outputs": [],
   "source": [
    "entropy_1 = calculate_entropy(image1_prob)\n",
    "entropy_2 = calculate_entropy(image2_prob)\n",
    "\n",
    "print(f\"Entropy of image 1: {entropy_1}\")\n",
    "print(f\"Entropy of image 2: {entropy_2}\")"
   ]
  }
 ],
 "metadata": {
  "kernelspec": {
   "display_name": "Python 3",
   "language": "python",
   "name": "python3"
  },
  "language_info": {
   "codemirror_mode": {
    "name": "ipython",
    "version": 3
   },
   "file_extension": ".py",
   "mimetype": "text/x-python",
   "name": "python",
   "nbconvert_exporter": "python",
   "pygments_lexer": "ipython3",
   "version": "3.12.7"
  }
 },
 "nbformat": 4,
 "nbformat_minor": 2
}
